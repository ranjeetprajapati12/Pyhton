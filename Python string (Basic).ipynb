{
 "cells": [
  {
   "cell_type": "markdown",
   "id": "e5c9e1b1",
   "metadata": {},
   "source": [
    "#                               Python String Basic\n",
    "###                                                      Assingment"
   ]
  },
  {
   "cell_type": "code",
   "execution_count": null,
   "id": "6865bd7e",
   "metadata": {},
   "outputs": [],
   "source": [
    "'''s = \"this is My First Python programming class and i am learNING python string and its function\"\n",
    "1 . Try to extract data from index one to index 300 with a jump of 3 \n",
    "2. Try to reverse a string without using reverse function \n",
    "3. Try to split a string after conversion of entire string in uppercase \n",
    "4. try to convert the whole string into lower case \n",
    "5 . Try to capitalize the whole string \n",
    "6 . Write a diference between isalnum() and isalpha()\n",
    "7. Try to give an example of expand tab\n",
    "8 . Give an example of strip , lstrip and rstrip \n",
    "9.  Replace a string charecter by another charector by taking your own example \n",
    "\"sudhanshu\"\n",
    "10 . Try  to give a defination of string center function with and exmple \n",
    "11 . Write your own definition of compiler and interpretor without copy paste form internet in your own language\n",
    "12 . Python is a interpreted of compiled language give a clear ans with your understanding \n",
    "13 . Try to write a usecase of python with your understanding .'''"
   ]
  },
  {
   "cell_type": "code",
   "execution_count": 12,
   "id": "47d785c0",
   "metadata": {},
   "outputs": [],
   "source": [
    "s= \"this is My First Python programming class and i am learNING python string and its function\""
   ]
  },
  {
   "cell_type": "markdown",
   "id": "b1de0f98",
   "metadata": {},
   "source": [
    "### Question 1: Try to extract data from index one to index 300 with a jump of 3"
   ]
  },
  {
   "cell_type": "code",
   "execution_count": 13,
   "id": "08d5eff8",
   "metadata": {},
   "outputs": [
    {
     "data": {
      "text/plain": [
       "'this is My First Python programming class and i am learNING python string and its function'"
      ]
     },
     "execution_count": 13,
     "metadata": {},
     "output_type": "execute_result"
    }
   ],
   "source": [
    "s"
   ]
  },
  {
   "cell_type": "code",
   "execution_count": 14,
   "id": "1a22de9e",
   "metadata": {},
   "outputs": [
    {
     "data": {
      "text/plain": [
       "'h   r tnrrmglsnimeNGyosi dtfco'"
      ]
     },
     "execution_count": 14,
     "metadata": {},
     "output_type": "execute_result"
    }
   ],
   "source": [
    "s[1:300:3]"
   ]
  },
  {
   "cell_type": "markdown",
   "id": "111d399b",
   "metadata": {},
   "source": [
    "### Question 2: Try to reverse a string without using reverse function "
   ]
  },
  {
   "cell_type": "code",
   "execution_count": 15,
   "id": "3fc79221",
   "metadata": {},
   "outputs": [
    {
     "data": {
      "text/plain": [
       "'this is My First Python programming class and i am learNING python string and its function'"
      ]
     },
     "execution_count": 15,
     "metadata": {},
     "output_type": "execute_result"
    }
   ],
   "source": [
    "s"
   ]
  },
  {
   "cell_type": "code",
   "execution_count": 16,
   "id": "393853ac",
   "metadata": {},
   "outputs": [
    {
     "data": {
      "text/plain": [
       "'noitcnuf sti dna gnirts nohtyp GNINrael ma i dna ssalc gnimmargorp nohtyP tsriF yM si siht'"
      ]
     },
     "execution_count": 16,
     "metadata": {},
     "output_type": "execute_result"
    }
   ],
   "source": [
    "s[::-1]"
   ]
  },
  {
   "cell_type": "markdown",
   "id": "15cee948",
   "metadata": {},
   "source": [
    "### Question 3: Try to split a string after conversion of entire string in uppercase "
   ]
  },
  {
   "cell_type": "code",
   "execution_count": 17,
   "id": "89d96bcd",
   "metadata": {},
   "outputs": [
    {
     "data": {
      "text/plain": [
       "'this is My First Python programming class and i am learNING python string and its function'"
      ]
     },
     "execution_count": 17,
     "metadata": {},
     "output_type": "execute_result"
    }
   ],
   "source": [
    "s"
   ]
  },
  {
   "cell_type": "code",
   "execution_count": 18,
   "id": "3938d078",
   "metadata": {},
   "outputs": [
    {
     "data": {
      "text/plain": [
       "'THIS IS MY FIRST PYTHON PROGRAMMING CLASS AND I AM LEARNING PYTHON STRING AND ITS FUNCTION'"
      ]
     },
     "execution_count": 18,
     "metadata": {},
     "output_type": "execute_result"
    }
   ],
   "source": [
    "s.upper()"
   ]
  },
  {
   "cell_type": "code",
   "execution_count": 19,
   "id": "9351493d",
   "metadata": {},
   "outputs": [
    {
     "data": {
      "text/plain": [
       "['this',\n",
       " 'is',\n",
       " 'My',\n",
       " 'First',\n",
       " 'Python',\n",
       " 'programming',\n",
       " 'class',\n",
       " 'and',\n",
       " 'i',\n",
       " 'am',\n",
       " 'learNING',\n",
       " 'python',\n",
       " 'string',\n",
       " 'and',\n",
       " 'its',\n",
       " 'function']"
      ]
     },
     "execution_count": 19,
     "metadata": {},
     "output_type": "execute_result"
    }
   ],
   "source": [
    "s.split()"
   ]
  },
  {
   "cell_type": "markdown",
   "id": "e22710c6",
   "metadata": {},
   "source": [
    "### Question 4: Try to convert the whole string into lower case"
   ]
  },
  {
   "cell_type": "code",
   "execution_count": 20,
   "id": "019f6be1",
   "metadata": {},
   "outputs": [
    {
     "data": {
      "text/plain": [
       "'this is My First Python programming class and i am learNING python string and its function'"
      ]
     },
     "execution_count": 20,
     "metadata": {},
     "output_type": "execute_result"
    }
   ],
   "source": [
    "s"
   ]
  },
  {
   "cell_type": "code",
   "execution_count": 21,
   "id": "4412c342",
   "metadata": {},
   "outputs": [
    {
     "data": {
      "text/plain": [
       "'this is my first python programming class and i am learning python string and its function'"
      ]
     },
     "execution_count": 21,
     "metadata": {},
     "output_type": "execute_result"
    }
   ],
   "source": [
    "s.lower()"
   ]
  },
  {
   "cell_type": "markdown",
   "id": "f1fda911",
   "metadata": {},
   "source": [
    "### Question 5: Try to capitalize the whole string "
   ]
  },
  {
   "cell_type": "code",
   "execution_count": 22,
   "id": "7b952370",
   "metadata": {},
   "outputs": [
    {
     "data": {
      "text/plain": [
       "'this is My First Python programming class and i am learNING python string and its function'"
      ]
     },
     "execution_count": 22,
     "metadata": {},
     "output_type": "execute_result"
    }
   ],
   "source": [
    "s"
   ]
  },
  {
   "cell_type": "code",
   "execution_count": 23,
   "id": "b71c71ef",
   "metadata": {},
   "outputs": [
    {
     "data": {
      "text/plain": [
       "'This is my first python programming class and i am learning python string and its function'"
      ]
     },
     "execution_count": 23,
     "metadata": {},
     "output_type": "execute_result"
    }
   ],
   "source": [
    "s.capitalize()"
   ]
  },
  {
   "cell_type": "markdown",
   "id": "3d084ffe",
   "metadata": {},
   "source": [
    "### Question 6: Write a diference between isalnum() and isalpha()"
   ]
  },
  {
   "cell_type": "code",
   "execution_count": 25,
   "id": "e9622116",
   "metadata": {},
   "outputs": [],
   "source": [
    "r=\"rano128\""
   ]
  },
  {
   "cell_type": "code",
   "execution_count": 26,
   "id": "7b6a64cb",
   "metadata": {},
   "outputs": [
    {
     "data": {
      "text/plain": [
       "True"
      ]
     },
     "execution_count": 26,
     "metadata": {},
     "output_type": "execute_result"
    }
   ],
   "source": [
    "r.isalnum()"
   ]
  },
  {
   "cell_type": "code",
   "execution_count": 27,
   "id": "32afbeea",
   "metadata": {},
   "outputs": [],
   "source": [
    "r1=\"rano\""
   ]
  },
  {
   "cell_type": "code",
   "execution_count": 28,
   "id": "8836c205",
   "metadata": {},
   "outputs": [
    {
     "data": {
      "text/plain": [
       "False"
      ]
     },
     "execution_count": 28,
     "metadata": {},
     "output_type": "execute_result"
    }
   ],
   "source": [
    "r.isalpha()"
   ]
  },
  {
   "cell_type": "code",
   "execution_count": 29,
   "id": "52a1ac3a",
   "metadata": {},
   "outputs": [
    {
     "data": {
      "text/plain": [
       "True"
      ]
     },
     "execution_count": 29,
     "metadata": {},
     "output_type": "execute_result"
    }
   ],
   "source": [
    "r1.isalpha()"
   ]
  },
  {
   "cell_type": "markdown",
   "id": "7f3de3c2",
   "metadata": {},
   "source": [
    "### Question 7:Try to give an example of expand tab"
   ]
  },
  {
   "cell_type": "code",
   "execution_count": 46,
   "id": "b603c15e",
   "metadata": {},
   "outputs": [],
   "source": [
    "ra='my\\name\\\\ranjeet'"
   ]
  },
  {
   "cell_type": "code",
   "execution_count": 47,
   "id": "919c3253",
   "metadata": {},
   "outputs": [
    {
     "data": {
      "text/plain": [
       "'my\\name\\\\ranjeet'"
      ]
     },
     "execution_count": 47,
     "metadata": {},
     "output_type": "execute_result"
    }
   ],
   "source": [
    "ra.expandtabs()"
   ]
  },
  {
   "cell_type": "markdown",
   "id": "d3d9bb4b",
   "metadata": {},
   "source": [
    "### Question 8: Give an example of strip , lstrip and rstrip"
   ]
  },
  {
   "cell_type": "code",
   "execution_count": 48,
   "id": "b1e09aea",
   "metadata": {},
   "outputs": [],
   "source": [
    "ran=\"  rannjeet   \""
   ]
  },
  {
   "cell_type": "code",
   "execution_count": 49,
   "id": "25c3a867",
   "metadata": {},
   "outputs": [
    {
     "data": {
      "text/plain": [
       "'rannjeet'"
      ]
     },
     "execution_count": 49,
     "metadata": {},
     "output_type": "execute_result"
    }
   ],
   "source": [
    "ran.strip()"
   ]
  },
  {
   "cell_type": "code",
   "execution_count": 50,
   "id": "ffc5b915",
   "metadata": {},
   "outputs": [
    {
     "data": {
      "text/plain": [
       "'rannjeet   '"
      ]
     },
     "execution_count": 50,
     "metadata": {},
     "output_type": "execute_result"
    }
   ],
   "source": [
    "ran.lstrip()"
   ]
  },
  {
   "cell_type": "code",
   "execution_count": 51,
   "id": "efaf48db",
   "metadata": {},
   "outputs": [
    {
     "data": {
      "text/plain": [
       "'  rannjeet'"
      ]
     },
     "execution_count": 51,
     "metadata": {},
     "output_type": "execute_result"
    }
   ],
   "source": [
    "ran.rstrip()"
   ]
  },
  {
   "cell_type": "markdown",
   "id": "9c9a497e",
   "metadata": {},
   "source": [
    "### Question 9: Replace a string charecter by another charector by taking your own example "
   ]
  },
  {
   "cell_type": "code",
   "execution_count": 67,
   "id": "68393bac",
   "metadata": {},
   "outputs": [],
   "source": [
    "r=\"ranjeet\""
   ]
  },
  {
   "cell_type": "code",
   "execution_count": 54,
   "id": "c53ef7c1",
   "metadata": {},
   "outputs": [
    {
     "data": {
      "text/plain": [
       "'ronjeet'"
      ]
     },
     "execution_count": 54,
     "metadata": {},
     "output_type": "execute_result"
    }
   ],
   "source": [
    "r.replace('a','o')"
   ]
  },
  {
   "cell_type": "code",
   "execution_count": 70,
   "id": "2ae83065",
   "metadata": {},
   "outputs": [
    {
     "data": {
      "text/plain": [
       "'ranjoet'"
      ]
     },
     "execution_count": 70,
     "metadata": {},
     "output_type": "execute_result"
    }
   ],
   "source": [
    "r.replace('e','o',1)    # count=1 mean only 1 e will get replace"
   ]
  },
  {
   "cell_type": "markdown",
   "id": "2e35b9c0",
   "metadata": {},
   "source": [
    "# Question 10: Try  to give a defination of string center function with and exmple "
   ]
  },
  {
   "cell_type": "markdown",
   "id": "1f84c3bc",
   "metadata": {},
   "source": [
    "center() funtion is use to provide spaces around the main string for other character.\n"
   ]
  },
  {
   "cell_type": "code",
   "execution_count": 63,
   "id": "a9fa8f43",
   "metadata": {},
   "outputs": [],
   "source": [
    "r=\"ranjeet\""
   ]
  },
  {
   "cell_type": "code",
   "execution_count": 65,
   "id": "de982f8c",
   "metadata": {},
   "outputs": [
    {
     "data": {
      "text/plain": [
       "'******ranjeet*******'"
      ]
     },
     "execution_count": 65,
     "metadata": {},
     "output_type": "execute_result"
    }
   ],
   "source": [
    "r.center(20,'*')"
   ]
  },
  {
   "cell_type": "markdown",
   "id": "e6acfe22",
   "metadata": {},
   "source": [
    "### Question 11: Write your own definition of compiler and interpretor without copy paste form internet in your own language"
   ]
  },
  {
   "cell_type": "code",
   "execution_count": 71,
   "id": "e4232b1a",
   "metadata": {},
   "outputs": [
    {
     "data": {
      "text/plain": [
       "'Interpreter translates just one statement of the program at a time into machine code.\\nCompiler scans the entire program and translates the whole of it into machine code at once'"
      ]
     },
     "execution_count": 71,
     "metadata": {},
     "output_type": "execute_result"
    }
   ],
   "source": [
    "'''Interpreter translates just one statement of the program at a time into machine code.\n",
    "Compiler scans the entire program and translates the whole of it into machine code at once'''"
   ]
  },
  {
   "cell_type": "markdown",
   "id": "213e1fed",
   "metadata": {},
   "source": [
    "### Question 12: Python is a interpreted of compiled language give a clear ans with your understanding "
   ]
  },
  {
   "cell_type": "code",
   "execution_count": 72,
   "id": "5dc8361c",
   "metadata": {},
   "outputs": [
    {
     "data": {
      "text/plain": [
       "'Python is an interpreted language, which means the source code of a Python program is converted into\\nbytecode that is then executed by the Python virtual machine.'"
      ]
     },
     "execution_count": 72,
     "metadata": {},
     "output_type": "execute_result"
    }
   ],
   "source": [
    "'''Python is an interpreted language, which means the source code of a Python program is converted into\n",
    "bytecode that is then executed by the Python virtual machine.'''"
   ]
  },
  {
   "cell_type": "markdown",
   "id": "a91d6ab5",
   "metadata": {},
   "source": [
    "### Question 13:Try to write a usecase of python with your understanding ."
   ]
  },
  {
   "cell_type": "code",
   "execution_count": 73,
   "id": "f6f5cb3a",
   "metadata": {},
   "outputs": [
    {
     "data": {
      "text/plain": [
       "' Python is type of programming language . it is very easy language  as compare to other languages.\\nit is little bit similar to real life englilsh language. We can use it for game development, web development,\\nsoftware development and in many other fields also.'"
      ]
     },
     "execution_count": 73,
     "metadata": {},
     "output_type": "execute_result"
    }
   ],
   "source": [
    "''' Python is type of programming language . it is very easy language  as compare to other languages.\n",
    "it is little bit similar to real life englilsh language. We can use it for game development, web development,\n",
    "software development and in many other fields also.'''"
   ]
  },
  {
   "cell_type": "markdown",
   "id": "b665518c",
   "metadata": {},
   "source": [
    "# Thank You......"
   ]
  },
  {
   "cell_type": "code",
   "execution_count": null,
   "id": "2139d900",
   "metadata": {},
   "outputs": [],
   "source": []
  }
 ],
 "metadata": {
  "kernelspec": {
   "display_name": "Python 3 (ipykernel)",
   "language": "python",
   "name": "python3"
  },
  "language_info": {
   "codemirror_mode": {
    "name": "ipython",
    "version": 3
   },
   "file_extension": ".py",
   "mimetype": "text/x-python",
   "name": "python",
   "nbconvert_exporter": "python",
   "pygments_lexer": "ipython3",
   "version": "3.10.6"
  }
 },
 "nbformat": 4,
 "nbformat_minor": 5
}
